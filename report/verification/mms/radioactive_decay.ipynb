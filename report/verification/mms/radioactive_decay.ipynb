{
 "cells": [
  {
   "cell_type": "code",
   "execution_count": 15,
   "metadata": {},
   "outputs": [],
   "source": [
    "import festim as F\n",
    "import numpy as np\n",
    "from fenics import UnitSquareMesh, MeshFunction\n",
    "\n",
    "my_model = F.Simulation()\n",
    "\n",
    "half_life = 0\n",
    "\n",
    "my_model.initial_conditions = [F.InitialCondition(value=1, field=\"solute\")]\n",
    "\n",
    "my_model.dt = F.Stepsize(\n",
    "    initial_value=0.05,\n",
    "    stepsize_change_ratio=1.01,\n",
    "    dt_min=1e-05,\n",
    ")\n",
    "\n",
    "derived_quantities = F.DerivedQuantities([  \n",
    "    F.TotalVolume(\"solute\", volume=1)\n",
    "])\n",
    "\n",
    "my_model.exports = [derived_quantities]\n",
    "\n",
    "# irrelevant quantities\n",
    "my_model.materials = [F.Material(id=1, D_0=4.1e-07, E_D=0.39)]\n",
    "my_model.T = F.Temperature(value=300)\n",
    "\n",
    "class RadioactiveDecayModel1D:\n",
    "    def __init__(self, half_life):\n",
    "        # radioactive decay conditions on 1m^3 space\n",
    "        my_model.mesh = F.MeshFromVertices(np.linspace(0, 1, 1001))\n",
    "\n",
    "        my_model.sources = [\n",
    "            F.RadioactiveDecay(decay_constant=np.log(2) / half_life, volume=1)\n",
    "        ]\n",
    "\n",
    "        my_model.settings = F.Settings(\n",
    "            absolute_tolerance=1e-13,\n",
    "            relative_tolerance=1e-10,\n",
    "            final_time=6*half_life  # s\n",
    "        )\n",
    "\n",
    "        my_model.initialise()\n",
    "        my_model.run()\n",
    "\n",
    "        self.time = derived_quantities.t\n",
    "        self.concentration = derived_quantities[0].data\n",
    "\n",
    "class RadioactiveDecayModel2D:\n",
    "    def __init__(self, half_life):\n",
    "        nx, ny = 10, 10\n",
    "        mesh_fenics = UnitSquareMesh(nx, ny)\n",
    "\n",
    "        volume_markers = MeshFunction(\"size_t\", mesh_fenics, mesh_fenics.topology().dim())\n",
    "        volume_markers.set_all(1)\n",
    "\n",
    "        my_model.mesh = F.Mesh(mesh_fenics, volume_markers=volume_markers)\n",
    "\n",
    "        my_model.sources = [\n",
    "            F.RadioactiveDecay(decay_constant=np.log(2) / half_life, volume=1)\n",
    "        ]\n",
    "\n",
    "        my_model.settings = F.Settings(\n",
    "            absolute_tolerance=1e-13,\n",
    "            relative_tolerance=1e-10,\n",
    "            final_time=6*half_life  # s\n",
    "        )\n",
    "\n",
    "        my_model.initialise()\n",
    "        my_model.run()\n",
    "\n",
    "        self.time = derived_quantities.t\n",
    "        self.concentration = derived_quantities[0].data"
   ]
  },
  {
   "cell_type": "code",
   "execution_count": 16,
   "metadata": {},
   "outputs": [
    {
     "name": "stdout",
     "output_type": "stream",
     "text": [
      "Defining initial values\n",
      "Defining variational problem\n",
      "Defining source terms\n",
      "Defining boundary conditions\n",
      "Time stepping...\n",
      "0.9 %        5.5e+00 s    Ellapsed time so far: 0.2 s\r"
     ]
    },
    {
     "name": "stderr",
     "output_type": "stream",
     "text": [
      "/home/rekomodo/anaconda3/envs/vv-festim-report-env/lib/python3.11/site-packages/festim/exports/derived_quantities/derived_quantities.py:52: DeprecationWarning: The derived_quantities attribute will be deprecated in a future release, please use festim.DerivedQuantities as a list instead\n",
      "  warnings.warn(\n"
     ]
    },
    {
     "name": "stdout",
     "output_type": "stream",
     "text": [
      "100.0 %        6.0e+02 s    Ellapsed time so far: 1.4 s\n"
     ]
    },
    {
     "data": {
      "text/plain": [
       "[<matplotlib.lines.Line2D at 0x7fe11cd257d0>]"
      ]
     },
     "execution_count": 16,
     "metadata": {},
     "output_type": "execute_result"
    },
    {
     "data": {
      "image/png": "[encoded data removed]",
      "text/plain": [
       "<Figure size 640x480 with 1 Axes>"
      ]
     },
     "metadata": {},
     "output_type": "display_data"
    }
   ],
   "source": [
    "model_1 = RadioactiveDecayModel2D(half_life=100)\n",
    "t, concentration = model_1.time, model_1.concentration\n",
    "\n",
    "import matplotlib.pyplot as plt\n",
    "\n",
    "plt.plot(t, concentration, scaley=False)"
   ]
  }
 ],
 "metadata": {
  "kernelspec": {
   "display_name": "vv-festim-report-env",
   "language": "python",
   "name": "python3"
  },
  "language_info": {
   "codemirror_mode": {
    "name": "ipython",
    "version": 3
   },
   "file_extension": ".py",
   "mimetype": "text/x-python",
   "name": "python",
   "nbconvert_exporter": "python",
   "pygments_lexer": "ipython3",
   "version": "3.11.9"
  }
 },
 "nbformat": 4,
 "nbformat_minor": 2
}
