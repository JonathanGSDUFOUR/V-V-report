{
 "cells": [
  {
   "cell_type": "markdown",
   "metadata": {},
   "source": [
    "# Thermo-desorption spectrum\n",
    "\n",
    "This validation case is a thermo-desorption spectrum measurement from the Max Planck Institute for Plasma Physics {cite}`ogorodnikova_deuterium_2003`.\n",
    "\n",
    "Deuterium ions at 200 eV were implanted in a 0.5 mm thick sample of high purity tungsten foil (PCW).\n",
    "\n",
    "The ion beam was turned on for an implanted fluence of $1.0 \\times 10^{22} \\ \\mathrm{D \\ m^{-2}}$:"
   ]
  },
  {
   "cell_type": "markdown",
   "metadata": {},
   "source": [
    "## FESTIM code"
   ]
  },
  {
   "cell_type": "code",
   "execution_count": 13,
   "metadata": {},
   "outputs": [],
   "source": [
    "import festim as F\n",
    "import numpy as np\n",
    "import sympy as sp\n",
    "import matplotlib.pyplot as plt\n",
    "\n",
    "flux_model = F.Simulation()"
   ]
  },
  {
   "cell_type": "code",
   "execution_count": 14,
   "metadata": {},
   "outputs": [],
   "source": [
    "\n",
    "vertices = np.concatenate([\n",
    "    np.linspace(0, 30e-9, num=200),\n",
    "    np.linspace(30e-9, 3e-6, num=300),\n",
    "    np.linspace(3e-6, 20e-6, num=200),\n",
    "])\n",
    "\n",
    "flux_model.mesh = F.MeshFromVertices(vertices)"
   ]
  },
  {
   "cell_type": "code",
   "execution_count": 15,
   "metadata": {},
   "outputs": [],
   "source": [
    "# Material Setup, only W\n",
    "#　Data from Table 1\n",
    "tungsten = F.Material(\n",
    "    id=1,\n",
    "    D_0=4.1e-07,  # m2/s\n",
    "    E_D=0.39,  # eV\n",
    ")\n",
    "\n",
    "flux_model.materials = tungsten"
   ]
  },
  {
   "cell_type": "code",
   "execution_count": 16,
   "metadata": {},
   "outputs": [],
   "source": [
    "import sympy as sp\n",
    "\n",
    "imp_fluence = 1e22\n",
    "flux_strength = 2.5e19 # beam strength from paper\n",
    "\n",
    "imp_time = imp_fluence/flux_strength # s\n",
    "\n",
    "ion_flux = sp.Piecewise((flux_strength, F.t <= imp_time), (0, True))\n",
    "\n",
    "source_term = F.ImplantationFlux(\n",
    "    flux=ion_flux,  # H/m2/s\n",
    "    imp_depth=4.5e-9,  # m\n",
    "    width=2.5e-9,  # m\n",
    "    volume=1\n",
    ")\n",
    "\n",
    "flux_model.sources = [source_term]"
   ]
  },
  {
   "cell_type": "markdown",
   "metadata": {},
   "source": [
    "The trapping parameters are taken from Table 1 for both the intrinsic traps and the extrinsic, ion-induced traps."
   ]
  },
  {
   "cell_type": "code",
   "execution_count": 17,
   "metadata": {},
   "outputs": [],
   "source": [
    "#trap settings\n",
    "w_atom_density = 6.3e28  # atom/m3\n",
    "\n",
    "trap_1 = F.Trap(\n",
    "        k_0=4.1e-7/(1.1e-10**2*6*w_atom_density),\n",
    "        E_k=0.39,\n",
    "        p_0=1e13,\n",
    "        E_p=0.87,\n",
    "        density=1.3e-3*w_atom_density,\n",
    "        materials=tungsten\n",
    "    )\n",
    "\n",
    "trap_2 = F.Trap(\n",
    "        k_0=4.1e-7/(1.1e-10**2*6*w_atom_density),\n",
    "        E_k=0.39,\n",
    "        p_0=1e13,\n",
    "        E_p=1.0,\n",
    "        density=4e-4*w_atom_density,\n",
    "        materials=tungsten\n",
    "    )\n",
    "\n",
    "center = 4.5e-9\n",
    "width = 2.5e-9\n",
    "distribution = 1/(width*(2*sp.pi)**0.5) * sp.exp(-0.5*((F.x-center)/width)**2)\n",
    "\n",
    "trap_3 = F.ExtrinsicTrap(\n",
    "        k_0=4.1e-7/(1.1e-10**2*6*w_atom_density),\n",
    "        E_k=0.39,\n",
    "        p_0=1e13,\n",
    "        E_p=1.5,\n",
    "        phi_0=ion_flux,\n",
    "        n_amax=1e-01*w_atom_density, f_a=distribution, eta_a=6e-4,\n",
    "        n_bmax=1e-02*w_atom_density, f_b=sp.Piecewise((1e6, F.x < 1e-6), (0, True)), eta_b=2e-4,\n",
    "        materials=tungsten\n",
    "    )\n",
    "\n",
    "\n",
    "center = 4.5e-9\n",
    "width = 2.5e-9\n",
    "distribution = 1/(width*(2*sp.pi)**0.5) * sp.exp(-0.5*((F.x-center)/width)**2)\n",
    "\n",
    "flux_model.traps = [trap_1, trap_2, trap_3]"
   ]
  },
  {
   "cell_type": "code",
   "execution_count": 18,
   "metadata": {},
   "outputs": [],
   "source": [
    "#boundary conditions\n",
    "flux_model.boundary_conditions = [\n",
    "    F.DirichletBC(surfaces=[1, 2], value=0, field=0)\n",
    "]"
   ]
  },
  {
   "cell_type": "code",
   "execution_count": 45,
   "metadata": {},
   "outputs": [],
   "source": [
    "implantation_temp = 293  # K\n",
    "temperature_ramp = 8  # K/s\n",
    "\n",
    "start_tds = imp_time + 300  # s\n",
    "\n",
    "flux_model.T = F.Temperature(\n",
    "    value=sp.Piecewise(\n",
    "        (implantation_temp, F.t < start_tds),\n",
    "        (implantation_temp + temperature_ramp*(F.t-start_tds), True))\n",
    ")"
   ]
  },
  {
   "cell_type": "code",
   "execution_count": 46,
   "metadata": {},
   "outputs": [],
   "source": [
    "min_temp, max_temp = 200, 900\n",
    "\n",
    "flux_model.dt = F.Stepsize(\n",
    "    initial_value=0.5,\n",
    "    stepsize_change_ratio=1.1,\n",
    "    max_stepsize=lambda t: 0.5 if t > start_tds else None,\n",
    "    dt_min=1e-05,\n",
    "    milestones=[start_tds],\n",
    ")\n",
    "\n",
    "flux_model.settings = F.Settings(\n",
    "    absolute_tolerance=1e10,\n",
    "    relative_tolerance=1e-09,\n",
    "    final_time=start_tds + (max_temp - implantation_temp)/temperature_ramp # time to reach max temp\n",
    ")"
   ]
  },
  {
   "cell_type": "code",
   "execution_count": 47,
   "metadata": {},
   "outputs": [
    {
     "name": "stdout",
     "output_type": "stream",
     "text": [
      "Defining initial values\n",
      "Defining variational problem\n",
      "Defining source terms\n",
      "Defining boundary conditions\n",
      "Time stepping...\n",
      "0.1 %        5.0e-01 s    Ellapsed time so far: 0.2 s\r"
     ]
    },
    {
     "name": "stderr",
     "output_type": "stream",
     "text": [
      "/home/komodo/anaconda3/envs/vv-festim-report-env/lib/python3.11/site-packages/festim/exports/derived_quantities/derived_quantities.py:52: DeprecationWarning: The derived_quantities attribute will be deprecated in a future release, please use festim.DerivedQuantities as a list instead\n",
      "  warnings.warn(\n"
     ]
    },
    {
     "name": "stdout",
     "output_type": "stream",
     "text": [
      "100.0 %        7.8e+02 s    Ellapsed time so far: 12.5 s\n"
     ]
    }
   ],
   "source": [
    "derived_quantities = F.DerivedQuantities(\n",
    "    [\n",
    "        F.TotalVolume(\"solute\", volume=1),\n",
    "        F.TotalVolume(\"retention\", volume=1),\n",
    "        F.TotalVolume(\"1\", volume=1),\n",
    "        F.TotalVolume(\"2\", volume=1),\n",
    "        F.TotalVolume(\"3\", volume=1),\n",
    "        F.HydrogenFlux(surface=1),\n",
    "        F.HydrogenFlux(surface=2)\n",
    "    ],\n",
    "    # filename=\"tds/derived_quantities.csv\"  # optional set a filename to export the data to csv\n",
    ")\n",
    "\n",
    "flux_model.exports = [derived_quantities]\n",
    "\n",
    "flux_model.initialise()\n",
    "flux_model.run()"
   ]
  },
  {
   "cell_type": "markdown",
   "metadata": {},
   "source": [
    "## Comparison with experimental data\n",
    "\n",
    "The results produced by FESTIM are in good agreement with the experimental data."
   ]
  },
  {
   "cell_type": "code",
   "execution_count": 48,
   "metadata": {},
   "outputs": [],
   "source": [
    "t = derived_quantities.t\n",
    "flux_left = derived_quantities.filter(fields=\"solute\", surfaces=1).data\n",
    "flux_right = derived_quantities.filter(fields=\"solute\", surfaces=2).data\n",
    "\n",
    "flux_total = -np.array(flux_left) - np.array(flux_right)"
   ]
  },
  {
   "cell_type": "code",
   "execution_count": 49,
   "metadata": {},
   "outputs": [
    {
     "data": {
      "image/png": "[encoded data removed]",
      "text/plain": [
       "<Figure size 640x480 with 1 Axes>"
      ]
     },
     "metadata": {},
     "output_type": "display_data"
    }
   ],
   "source": [
    "#plotting simulation data\n",
    "temp = [implantation_temp + 8*(t - start_tds) for t in t]\n",
    "plt.plot(temp, flux_total, linewidth=3, label = \"FESTIM\")\n",
    "\n",
    "#plotting original data\n",
    "experimental_tds = np.genfromtxt(\"ogorodnikova-original.csv\", delimiter=\",\")\n",
    "experimental_temp = experimental_tds[:, 0]\n",
    "experimental_flux = experimental_tds[:, 1]\n",
    "plt.plot(experimental_temp, experimental_flux, linewidth=3, color=\"green\", label=\"original\")\n",
    "\n",
    "plt.legend()\n",
    "plt.xlim(min_temp, max_temp)\n",
    "plt.ylim(bottom=0, top=1e19)\n",
    "plt.ylabel(r\"Desorption flux (m$^{-2}$ s$^{-1}$)\")\n",
    "plt.xlabel(r\"Temperature (K)\")\n",
    "\n",
    "plt.show()"
   ]
  },
  {
   "cell_type": "markdown",
   "metadata": {},
   "source": [
    "```{note}\n",
    "The experimental data was taken from Figure 5 of the original experiment paper {cite}`anderl_tritium_1986` using [WebPlotDigitizer](https://automeris.io/)\n",
    "```"
   ]
  }
 ],
 "metadata": {
  "kernelspec": {
   "display_name": "vv-festim-report-env",
   "language": "python",
   "name": "python3"
  },
  "language_info": {
   "codemirror_mode": {
    "name": "ipython",
    "version": 3
   },
   "file_extension": ".py",
   "mimetype": "text/x-python",
   "name": "python",
   "nbconvert_exporter": "python",
   "pygments_lexer": "ipython3",
   "version": "3.11.9"
  }
 },
 "nbformat": 4,
 "nbformat_minor": 2
}
