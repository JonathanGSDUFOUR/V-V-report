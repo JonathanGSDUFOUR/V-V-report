{
 "cells": [
  {
   "cell_type": "markdown",
   "metadata": {},
   "source": [
    "# FESTIM V&V book\n",
    "\n",
    "Author: Remi Delaporte-Mathurin\n",
    "\n",
    "\n",
    "Comments and corrections to this webpage should be submitted to the issue tracker by going to the relevant page in the tutorial, then click the <img src=\"https://github.githubassets.com/assets/GitHub-Mark-ea2971cee799.png\" height=\"20\"> -symbol in the top right corner and \\\"open issue\\\"."
   ]
  },
  {
   "cell_type": "code",
   "execution_count": 1,
   "metadata": {},
   "outputs": [
    {
     "name": "stdout",
     "output_type": "stream",
     "text": [
      "FESTIM version: 1.2\n"
     ]
    }
   ],
   "source": [
    "import festim\n",
    "\n",
    "print(f\"FESTIM version: {festim.__version__}\")"
   ]
  }
 ],
 "metadata": {
  "kernelspec": {
   "display_name": "vv-festim-report-env",
   "language": "python",
   "name": "python3"
  },
  "language_info": {
   "codemirror_mode": {
    "name": "ipython",
    "version": 3
   },
   "file_extension": ".py",
   "mimetype": "text/x-python",
   "name": "python",
   "nbconvert_exporter": "python",
   "pygments_lexer": "ipython3",
   "version": "3.11.8"
  }
 },
 "nbformat": 4,
 "nbformat_minor": 2
}
