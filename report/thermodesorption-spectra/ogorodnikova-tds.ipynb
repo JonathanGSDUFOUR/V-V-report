{
 "cells": [
  {
   "cell_type": "code",
   "execution_count": 48,
   "metadata": {},
   "outputs": [],
   "source": [
    "import festim as F\n",
    "import numpy as np\n",
    "import sympy as sp\n",
    "import matplotlib.pyplot as plt\n",
    "\n",
    "small_flux_model = F.Simulation()\n",
    "big_flux_model = F.Simulation()"
   ]
  },
  {
   "cell_type": "code",
   "execution_count": 49,
   "metadata": {},
   "outputs": [],
   "source": [
    "\n",
    "vertices = np.concatenate([\n",
    "    np.linspace(0, 30e-9, num=200),\n",
    "    np.linspace(30e-9, 3e-6, num=300),\n",
    "    np.linspace(3e-6, 20e-6, num=200),\n",
    "])\n",
    "\n",
    "small_flux_model.mesh = F.MeshFromVertices(vertices)\n",
    "\n",
    "vertices = np.concatenate([\n",
    "    np.linspace(0, 30e-9, num=600),\n",
    "    np.linspace(30e-9, 3e-6, num=900),\n",
    "    np.linspace(3e-6, 20e-6, num=600),\n",
    "])\n",
    "\n",
    "big_flux_model.mesh = F.MeshFromVertices(vertices)"
   ]
  },
  {
   "cell_type": "code",
   "execution_count": 50,
   "metadata": {},
   "outputs": [],
   "source": [
    "# Material Setup, only W\n",
    "#　Data from Table 1\n",
    "tungsten = F.Material(\n",
    "    id=1,\n",
    "    D_0=4.1e-07,  # m2/s\n",
    "    E_D=0.39,  # eV\n",
    ")\n",
    "\n",
    "small_flux_model.materials = tungsten\n",
    "big_flux_model.materials = tungsten"
   ]
  },
  {
   "cell_type": "code",
   "execution_count": 51,
   "metadata": {},
   "outputs": [],
   "source": [
    "import sympy as sp\n",
    "\n",
    "small_imp_fluence = 1e22\n",
    "big_imp_fluence = 1e23\n",
    "\n",
    "flux_strength = 2.5e19 # beam strength from paper\n",
    "\n",
    "small_imp_time = small_imp_fluence/flux_strength # s\n",
    "big_imp_time = big_imp_fluence/flux_strength # s\n",
    "\n",
    "small_ion_flux = sp.Piecewise((flux_strength, F.t <= small_imp_time), (0, True))\n",
    "big_ion_flux = sp.Piecewise((flux_strength, F.t <= big_imp_time), (0, True))\n",
    "\n",
    "small_source_term = F.ImplantationFlux(\n",
    "    flux=small_ion_flux,  # H/m2/s\n",
    "    imp_depth=4.5e-9,  # m\n",
    "    width=2.5e-9,  # m\n",
    "    volume=1\n",
    ")\n",
    "\n",
    "big_source_term = F.ImplantationFlux(\n",
    "    flux=big_ion_flux,  # H/m2/s\n",
    "    imp_depth=4.5e-9,  # m\n",
    "    width=2.5e-9,  # m\n",
    "    volume=1\n",
    ")\n",
    "\n",
    "small_flux_model.sources = [small_source_term]\n",
    "big_flux_model.sources = [big_source_term]"
   ]
  },
  {
   "cell_type": "code",
   "execution_count": 52,
   "metadata": {},
   "outputs": [],
   "source": [
    "#trap settings\n",
    "w_atom_density = 6.3e28  # atom/m3\n",
    "\n",
    "trap_1 = F.Trap(\n",
    "        k_0=4.1e-7/(1.1e-10**2*6*w_atom_density),\n",
    "        E_k=0.39,\n",
    "        p_0=1e13,\n",
    "        E_p=0.87,\n",
    "        density=1.3e-3*w_atom_density,\n",
    "        materials=tungsten\n",
    "    )\n",
    "\n",
    "trap_2 = F.Trap(\n",
    "        k_0=4.1e-7/(1.1e-10**2*6*w_atom_density),\n",
    "        E_k=0.39,\n",
    "        p_0=1e13,\n",
    "        E_p=1.0,\n",
    "        density=4e-4*w_atom_density,\n",
    "        materials=tungsten\n",
    "    )\n",
    "\n",
    "center = 4.5e-9\n",
    "width = 2.5e-9\n",
    "distribution = 1/(width*(2*sp.pi)**0.5) * sp.exp(-0.5*((F.x-center)/width)**2)\n",
    "\n",
    "small_trap_3 = F.ExtrinsicTrap(\n",
    "        k_0=4.1e-7/(1.1e-10**2*6*w_atom_density),\n",
    "        E_k=0.39,\n",
    "        p_0=1e13,\n",
    "        E_p=1.5,\n",
    "        phi_0=small_ion_flux,\n",
    "        n_amax=1e-01*w_atom_density, f_a=distribution, eta_a=6e-4,\n",
    "        n_bmax=1e-02*w_atom_density, f_b=sp.Piecewise((1e6, F.x < 1e-6), (0, True)), eta_b=2e-4,\n",
    "        materials=tungsten\n",
    "    )\n",
    "\n",
    "\n",
    "center = 4.5e-9\n",
    "width = 2.5e-9\n",
    "distribution = 1/(width*(2*sp.pi)**0.5) * sp.exp(-0.5*((F.x-center)/width)**2)\n",
    "\n",
    "big_trap_3 = F.ExtrinsicTrap(\n",
    "        k_0=4.1e-7/(1.1e-10**2*6*w_atom_density),\n",
    "        E_k=0.39,\n",
    "        p_0=1e13,\n",
    "        E_p=1.5,\n",
    "        phi_0=big_ion_flux,\n",
    "        n_amax=1e-01*w_atom_density, f_a=distribution, eta_a=6e-4,\n",
    "        n_bmax=1e-02*w_atom_density, f_b=sp.Piecewise((1e6, F.x < 1e-6), (0, True)), eta_b=2e-4,\n",
    "        materials=tungsten\n",
    "    )\n",
    "\n",
    "small_flux_model.traps = [trap_1, trap_2, small_trap_3]\n",
    "big_flux_model.traps = [trap_1, trap_2, big_trap_3]"
   ]
  },
  {
   "cell_type": "code",
   "execution_count": 53,
   "metadata": {},
   "outputs": [],
   "source": [
    "#boundary conditions\n",
    "small_flux_model.boundary_conditions = [\n",
    "    F.DirichletBC(surfaces=[1, 2], value=0, field=0)\n",
    "]\n",
    "\n",
    "big_flux_model.boundary_conditions = [\n",
    "    F.DirichletBC(surfaces=[1, 2], value=0, field=0)\n",
    "]"
   ]
  },
  {
   "cell_type": "code",
   "execution_count": 54,
   "metadata": {},
   "outputs": [],
   "source": [
    "implantation_temp = 293  # K\n",
    "temperature_ramp = 8  # K/s\n",
    "\n",
    "small_start_tds = small_imp_time + 300  # s\n",
    "\n",
    "small_flux_model.T = F.Temperature(\n",
    "    value=sp.Piecewise(\n",
    "        (implantation_temp, F.t < small_start_tds),\n",
    "        (implantation_temp + temperature_ramp*(F.t-small_start_tds), True))\n",
    ")\n",
    "\n",
    "big_start_tds = big_imp_time + 300 # s\n",
    "\n",
    "big_flux_model.T = F.Temperature(\n",
    "    value=sp.Piecewise(\n",
    "        (implantation_temp, F.t < big_start_tds),\n",
    "        (implantation_temp + temperature_ramp*(F.t-big_start_tds), True))\n",
    ")"
   ]
  },
  {
   "cell_type": "code",
   "execution_count": 55,
   "metadata": {},
   "outputs": [],
   "source": [
    "small_flux_model.dt = F.Stepsize(\n",
    "    initial_value=0.5,\n",
    "    stepsize_change_ratio=1.1,\n",
    "    max_stepsize=lambda t: 0.5 if t > small_start_tds else None,\n",
    "    dt_min=1e-05,\n",
    "    milestones=[small_start_tds],\n",
    ")\n",
    "\n",
    "small_flux_model.settings = F.Settings(\n",
    "    absolute_tolerance=1e10,\n",
    "    relative_tolerance=1e-09,\n",
    "    final_time=small_start_tds + 80 # time to reach max temp\n",
    ")\n",
    "\n",
    "big_flux_model.dt = F.Stepsize(\n",
    "    initial_value=0.4,\n",
    "    stepsize_change_ratio=1.05,\n",
    "    max_stepsize=lambda t: 0.5 if t > big_start_tds else None,\n",
    "    dt_min=1e-05,\n",
    "    milestones=[big_start_tds],\n",
    ")\n",
    "\n",
    "big_flux_model.settings = F.Settings(\n",
    "    absolute_tolerance=1e10,\n",
    "    relative_tolerance=1e-09,\n",
    "    final_time=big_start_tds + 80\n",
    ")"
   ]
  },
  {
   "cell_type": "code",
   "execution_count": 56,
   "metadata": {},
   "outputs": [
    {
     "name": "stdout",
     "output_type": "stream",
     "text": [
      "Defining initial values\n",
      "Defining variational problem\n",
      "Defining source terms\n",
      "Defining boundary conditions\n",
      "Time stepping...\n",
      "0.4 %        3.1e+00 s    Ellapsed time so far: 0.2 s\r"
     ]
    },
    {
     "name": "stderr",
     "output_type": "stream",
     "text": [
      "/home/rekomodo/anaconda3/envs/festim-env/lib/python3.11/site-packages/festim/exports/derived_quantities/derived_quantities.py:52: DeprecationWarning: The derived_quantities attribute will be deprecated in a future release, please use festim.DerivedQuantities as a list instead\n",
      "  warnings.warn(\n"
     ]
    },
    {
     "name": "stdout",
     "output_type": "stream",
     "text": [
      "100.0 %        7.8e+02 s    Ellapsed time so far: 6.1 s\n",
      "Defining initial values\n",
      "Defining variational problem\n",
      "Defining source terms\n",
      "Defining boundary conditions\n",
      "Time stepping...\n",
      "0.0 %        7.8e-01 s    Ellapsed time so far: 0.2 s\r"
     ]
    },
    {
     "name": "stderr",
     "output_type": "stream",
     "text": [
      "/home/rekomodo/anaconda3/envs/festim-env/lib/python3.11/site-packages/festim/exports/derived_quantities/derived_quantities.py:52: DeprecationWarning: The derived_quantities attribute will be deprecated in a future release, please use festim.DerivedQuantities as a list instead\n",
      "  warnings.warn(\n"
     ]
    },
    {
     "name": "stdout",
     "output_type": "stream",
     "text": [
      "100.0 %        4.4e+03 s    Ellapsed time so far: 25.5 s\n"
     ]
    }
   ],
   "source": [
    "small_derived_quantities = F.DerivedQuantities(\n",
    "    [\n",
    "        F.TotalVolume(\"solute\", volume=1),\n",
    "        F.TotalVolume(\"retention\", volume=1),\n",
    "        F.TotalVolume(\"1\", volume=1),\n",
    "        F.TotalVolume(\"2\", volume=1),\n",
    "        F.TotalVolume(\"3\", volume=1),\n",
    "        F.HydrogenFlux(surface=1),\n",
    "        F.HydrogenFlux(surface=2)\n",
    "    ],\n",
    "    # filename=\"tds/derived_quantities.csv\"  # optional set a filename to export the data to csv\n",
    ")\n",
    "\n",
    "big_derived_quantities = F.DerivedQuantities(\n",
    "    [\n",
    "        F.TotalVolume(\"solute\", volume=1),\n",
    "        F.TotalVolume(\"retention\", volume=1),\n",
    "        F.TotalVolume(\"1\", volume=1),\n",
    "        F.TotalVolume(\"2\", volume=1),\n",
    "        F.TotalVolume(\"3\", volume=1),\n",
    "        F.HydrogenFlux(surface=1),\n",
    "        F.HydrogenFlux(surface=2)\n",
    "    ]\n",
    ")\n",
    "\n",
    "small_flux_model.exports = [small_derived_quantities]\n",
    "big_flux_model.exports = [big_derived_quantities]\n",
    "\n",
    "small_flux_model.initialise()\n",
    "small_flux_model.run()\n",
    "\n",
    "#big_flux_model.initialise()\n",
    "#big_flux_model.run()"
   ]
  },
  {
   "cell_type": "code",
   "execution_count": 57,
   "metadata": {},
   "outputs": [],
   "source": [
    "small_t = small_derived_quantities.t\n",
    "small_flux_left = small_derived_quantities.filter(fields=\"solute\", surfaces=1).data\n",
    "small_flux_right = small_derived_quantities.filter(fields=\"solute\", surfaces=2).data\n",
    "\n",
    "small_flux_total = -np.array(small_flux_left) - np.array(small_flux_right)\n",
    "\n",
    "\n",
    "#big_t = big_derived_quantities.t\n",
    "#big_flux_left = big_derived_quantities.filter(fields=\"solute\", surfaces=1).data\n",
    "#big_flux_right = big_derived_quantities.filter(fields=\"solute\", surfaces=2).data\n",
    "\n",
    "#big_flux_total = -np.array(big_flux_left) - np.array(big_flux_right)"
   ]
  },
  {
   "cell_type": "code",
   "execution_count": 58,
   "metadata": {},
   "outputs": [
    {
     "data": {
      "text/plain": [
       "Text(0.5, 0, 'Temperature (K)')"
      ]
     },
     "execution_count": 58,
     "metadata": {},
     "output_type": "execute_result"
    },
    {
     "data": {
      "image/png": "[encoded data removed]",
      "text/plain": [
       "<Figure size 640x480 with 1 Axes>"
      ]
     },
     "metadata": {},
     "output_type": "display_data"
    }
   ],
   "source": [
    "min_temp, max_temp = 200, 900\n",
    "\n",
    "small_temp = [implantation_temp + 8*(t - small_start_tds) for t in small_t]\n",
    "#big_temp = [implantation_temp + 8*(t - big_start_tds) for t in big_t]\n",
    "\n",
    "plt.plot(small_temp, small_flux_total, linewidth=3)\n",
    "#plt.plot(big_temp, big_flux_total, linewidth=3)\n",
    "\n",
    "plt.xlim(min_temp, max_temp)\n",
    "plt.ylim(bottom=0, top=1e19)\n",
    "plt.ylabel(r\"Desorption flux (m$^{-2}$ s$^{-1}$)\")\n",
    "plt.xlabel(r\"Temperature (K)\")"
   ]
  }
 ],
 "metadata": {
  "kernelspec": {
   "display_name": "vv-festim-report-env",
   "language": "python",
   "name": "python3"
  },
  "language_info": {
   "codemirror_mode": {
    "name": "ipython",
    "version": 3
   },
   "file_extension": ".py",
   "mimetype": "text/x-python",
   "name": "python",
   "nbconvert_exporter": "python",
   "pygments_lexer": "ipython3",
   "version": "3.11.9"
  }
 },
 "nbformat": 4,
 "nbformat_minor": 2
}
