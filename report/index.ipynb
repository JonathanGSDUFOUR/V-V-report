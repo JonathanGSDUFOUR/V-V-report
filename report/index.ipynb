{
 "cells": [
  {
   "cell_type": "markdown",
   "metadata": {},
   "source": [
    "# FESTIM V&V book\n",
    "\n",
    "Author: Remi Delaporte-Mathurin\n",
    "\n",
    "Welcome to the FESTIM Verification and Validation (V&V) book! This book aims to provide a comprehensive overview of the verification and validation processes conducted for the FESTIM code. Through a series of verification and validation cases, we aim to demonstrate the accuracy, reliability, and applicability of FESTIM for simulating hydrogen transport phenomena.\n",
    "\n",
    "\n",
    "```{tip} How to cite this book\n",
    "INSERT HERE PROPER REFERNCE\n",
    "```\n",
    "\n",
    "## About this Book\n",
    "\n",
    "This book has been generated using [Jupyter Book](https://jupyterbook.org/), an open-source tool for building interactive and collaborative online books using Jupyter Notebooks. Jupyter Book enables us to seamlessly integrate code, text, equations, and visualisations, providing an interactive and transparent platform for presenting our verification and validation results. By utilising Jupyter Book, we aim to ensure the reproducibility of our results and provide readers with the ability to explore and interact with the code and data presented in this book."
   ]
  },
  {
   "cell_type": "code",
   "execution_count": 1,
   "metadata": {},
   "outputs": [
    {
     "name": "stdout",
     "output_type": "stream",
     "text": [
      "FESTIM version: 1.2\n"
     ]
    }
   ],
   "source": [
    "import festim\n",
    "\n",
    "print(f\"FESTIM version: {festim.__version__}\")"
   ]
  },
  {
   "cell_type": "markdown",
   "metadata": {},
   "source": [
    "## Feedback and Contributions\n",
    "\n",
    "We encourage readers to provide comments, suggestions, and corrections to this book by submitting them to the issue tracker. To do so, simply navigate to the relevant page in the tutorial, then click the <img src=\"https://github.githubassets.com/assets/GitHub-Mark-ea2971cee799.png\" height=\"20\"> symbol in the top right corner and select \"open issue\". Your feedback is invaluable in helping us improve and refine this resource for the benefit of the community.\n",
    "\n",
    "## Acknowledgments\n",
    "\n",
    "We would like to express our gratitude to all [contributors](https://github.com/festim-dev/FESTIM/graphs/contributors) who have contributed to the development and improvement of FESTIM. Your dedication and support have been instrumental in advancing the capabilities of FESTIM and making this V&V book possible.\n",
    "\n",
    "We hope that this book serves as a valuable resource for researchers, practitioners, and enthusiasts interested in hydrogen transport modeling and the verification and validation of computational codes. Thank you for joining us on this journey of exploration and discovery."
   ]
  }
 ],
 "metadata": {
  "kernelspec": {
   "display_name": "vv-festim-report-env",
   "language": "python",
   "name": "python3"
  },
  "language_info": {
   "codemirror_mode": {
    "name": "ipython",
    "version": 3
   },
   "file_extension": ".py",
   "mimetype": "text/x-python",
   "name": "python",
   "nbconvert_exporter": "python",
   "pygments_lexer": "ipython3",
   "version": "3.11.8"
  }
 },
 "nbformat": 4,
 "nbformat_minor": 2
}
